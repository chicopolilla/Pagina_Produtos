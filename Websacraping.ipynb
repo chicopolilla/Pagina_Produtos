{
 "cells": [
  {
   "cell_type": "code",
   "execution_count": 1,
   "id": "6eb90f34",
   "metadata": {},
   "outputs": [],
   "source": [
    "\n",
    "import pandas as pd\n",
    "\n",
    "from selenium import webdriver\n",
    "from selenium.webdriver.common.keys import Keys\n",
    "import time\n",
    "from selenium import webdriver\n",
    "from selenium.webdriver.common.by import By\n",
    "from selenium.webdriver.support.ui import WebDriverWait\n",
    "from selenium.webdriver.support import expected_conditions as EC\n",
    "import urllib\n",
    "from PIL import Image\n",
    "from selenium.webdriver import Chrome\n",
    "import smtplib\n",
    "import win32com.client as win32\n"
   ]
  },
  {
   "cell_type": "code",
   "execution_count": 14,
   "id": "bc624196",
   "metadata": {},
   "outputs": [
    {
     "name": "stdout",
     "output_type": "stream",
     "text": [
      "No se encontró el elemento para el valor GA00781-LA\n",
      "No se encontró el elemento para el valor GA01317-MX\n",
      "No se encontró el elemento para el valor GA01334-MX\n",
      "No se encontró el elemento para el valor GA01318-MX\n",
      "No se encontró el elemento para el valor NC2100MX\n",
      "No se encontró el elemento para el valor NC1102MX\n",
      "No se encontró el elemento para el valor GA00516-LA\n",
      "No se encontró el elemento para el valor GA01586-MX\n",
      "No se encontró el elemento para el valor GA02430-LA\n",
      "No se encontró el elemento para el valor GA02434-LA\n",
      "No se encontró el elemento para el valor GA02432-LA\n",
      "No se encontró el elemento para el valor CON-SNTP-ISR4351V\n",
      "                                           Resultado\n",
      "0                                            $739.00\n",
      "1                                          $1,439.00\n",
      "2                                            $739.00\n",
      "3                                          $1,439.00\n",
      "4  <html lang=\"es\" data-whatinput=\"keyboard\" data...\n"
     ]
    }
   ],
   "source": [
    "from selenium.common.exceptions import NoSuchElementException\n",
    "\n",
    "# Inicia el navegador web\n",
    "driver = webdriver.Edge()\n",
    "\n",
    "for valor in df['PartNumber']:\n",
    "    driver.get('https://www.cyberpuerta.mx/')\n",
    "    caja_busqueda = driver.find_element(By.XPATH, '/html/body/div[2]/div[2]/div[2]/div/div[1]/form/input[2]')\n",
    "    caja_busqueda.send_keys(valor)\n",
    "    caja_busqueda.submit()\n",
    "    time.sleep(10)\n",
    "\n",
    "    try:\n",
    "        elemento_resultado = driver.find_element(By.XPATH, '/html/body/div[2]/div[3]/div/div[2]/div/div/div[1]/form/div[2]/div[1]/div[2]/div/div[3]/div[2]/div/div/div[1]/span')\n",
    "        resultados.append(elemento_resultado.text)\n",
    "    except NoSuchElementException:\n",
    "        # Si el elemento no se encuentra, imprime el HTML de la página\n",
    "        resultados.append(driver.page_source)\n",
    "        print(f'No se encontró el elemento para el el precio de: {valor}')\n",
    "\n",
    "# Cierra el navegador web\n",
    "driver.quit()\n",
    "\n",
    "# Crea un nuevo DataFrame con los resultados\n",
    "df_resultados = pd.DataFrame(resultados, columns=['Resultado'])\n",
    "\n",
    "# Muestra los resultados\n",
    "print(df_resultados.head())\n"
   ]
  },
  {
   "cell_type": "code",
   "execution_count": 15,
   "id": "b820d8a2",
   "metadata": {},
   "outputs": [
    {
     "data": {
      "text/html": [
       "<div>\n",
       "<style scoped>\n",
       "    .dataframe tbody tr th:only-of-type {\n",
       "        vertical-align: middle;\n",
       "    }\n",
       "\n",
       "    .dataframe tbody tr th {\n",
       "        vertical-align: top;\n",
       "    }\n",
       "\n",
       "    .dataframe thead th {\n",
       "        text-align: right;\n",
       "    }\n",
       "</style>\n",
       "<table border=\"1\" class=\"dataframe\">\n",
       "  <thead>\n",
       "    <tr style=\"text-align: right;\">\n",
       "      <th></th>\n",
       "      <th>Resultado</th>\n",
       "    </tr>\n",
       "  </thead>\n",
       "  <tbody>\n",
       "    <tr>\n",
       "      <th>0</th>\n",
       "      <td>$739.00</td>\n",
       "    </tr>\n",
       "    <tr>\n",
       "      <th>1</th>\n",
       "      <td>$1,439.00</td>\n",
       "    </tr>\n",
       "    <tr>\n",
       "      <th>2</th>\n",
       "      <td>$739.00</td>\n",
       "    </tr>\n",
       "    <tr>\n",
       "      <th>3</th>\n",
       "      <td>$1,439.00</td>\n",
       "    </tr>\n",
       "    <tr>\n",
       "      <th>4</th>\n",
       "      <td>&lt;html lang=\"es\" data-whatinput=\"keyboard\" data...</td>\n",
       "    </tr>\n",
       "    <tr>\n",
       "      <th>5</th>\n",
       "      <td>&lt;html lang=\"\"&gt;&lt;head&gt;\\n    &lt;meta charset=\"utf-8...</td>\n",
       "    </tr>\n",
       "    <tr>\n",
       "      <th>6</th>\n",
       "      <td>&lt;html lang=\"\"&gt;&lt;head&gt;\\n    &lt;meta charset=\"utf-8...</td>\n",
       "    </tr>\n",
       "    <tr>\n",
       "      <th>7</th>\n",
       "      <td>&lt;html lang=\"\"&gt;&lt;head&gt;\\n    &lt;meta charset=\"utf-8...</td>\n",
       "    </tr>\n",
       "    <tr>\n",
       "      <th>8</th>\n",
       "      <td>&lt;html lang=\"\"&gt;&lt;head&gt;\\n    &lt;meta charset=\"utf-8...</td>\n",
       "    </tr>\n",
       "    <tr>\n",
       "      <th>9</th>\n",
       "      <td>&lt;html lang=\"\"&gt;&lt;head&gt;\\n    &lt;meta charset=\"utf-8...</td>\n",
       "    </tr>\n",
       "    <tr>\n",
       "      <th>10</th>\n",
       "      <td>&lt;html lang=\"\"&gt;&lt;head&gt;\\n    &lt;meta charset=\"utf-8...</td>\n",
       "    </tr>\n",
       "    <tr>\n",
       "      <th>11</th>\n",
       "      <td>&lt;html lang=\"\"&gt;&lt;head&gt;\\n    &lt;meta charset=\"utf-8...</td>\n",
       "    </tr>\n",
       "    <tr>\n",
       "      <th>12</th>\n",
       "      <td>&lt;html lang=\"\"&gt;&lt;head&gt;\\n    &lt;meta charset=\"utf-8...</td>\n",
       "    </tr>\n",
       "    <tr>\n",
       "      <th>13</th>\n",
       "      <td>&lt;html lang=\"\"&gt;&lt;head&gt;\\n    &lt;meta charset=\"utf-8...</td>\n",
       "    </tr>\n",
       "    <tr>\n",
       "      <th>14</th>\n",
       "      <td>&lt;html lang=\"\"&gt;&lt;head&gt;\\n    &lt;meta charset=\"utf-8...</td>\n",
       "    </tr>\n",
       "    <tr>\n",
       "      <th>15</th>\n",
       "      <td>&lt;html lang=\"\"&gt;&lt;head&gt;\\n    &lt;meta charset=\"utf-8...</td>\n",
       "    </tr>\n",
       "  </tbody>\n",
       "</table>\n",
       "</div>"
      ],
      "text/plain": [
       "                                            Resultado\n",
       "0                                             $739.00\n",
       "1                                           $1,439.00\n",
       "2                                             $739.00\n",
       "3                                           $1,439.00\n",
       "4   <html lang=\"es\" data-whatinput=\"keyboard\" data...\n",
       "5   <html lang=\"\"><head>\\n    <meta charset=\"utf-8...\n",
       "6   <html lang=\"\"><head>\\n    <meta charset=\"utf-8...\n",
       "7   <html lang=\"\"><head>\\n    <meta charset=\"utf-8...\n",
       "8   <html lang=\"\"><head>\\n    <meta charset=\"utf-8...\n",
       "9   <html lang=\"\"><head>\\n    <meta charset=\"utf-8...\n",
       "10  <html lang=\"\"><head>\\n    <meta charset=\"utf-8...\n",
       "11  <html lang=\"\"><head>\\n    <meta charset=\"utf-8...\n",
       "12  <html lang=\"\"><head>\\n    <meta charset=\"utf-8...\n",
       "13  <html lang=\"\"><head>\\n    <meta charset=\"utf-8...\n",
       "14  <html lang=\"\"><head>\\n    <meta charset=\"utf-8...\n",
       "15  <html lang=\"\"><head>\\n    <meta charset=\"utf-8..."
      ]
     },
     "execution_count": 15,
     "metadata": {},
     "output_type": "execute_result"
    }
   ],
   "source": [
    "df_resultados"
   ]
  },
  {
   "cell_type": "code",
   "execution_count": null,
   "id": "b0a0919f",
   "metadata": {},
   "outputs": [],
   "source": []
  },
  {
   "cell_type": "code",
   "execution_count": null,
   "id": "fa6d3e4b",
   "metadata": {},
   "outputs": [],
   "source": []
  },
  {
   "cell_type": "code",
   "execution_count": null,
   "id": "7c5dbd6b",
   "metadata": {},
   "outputs": [],
   "source": []
  },
  {
   "cell_type": "code",
   "execution_count": null,
   "id": "7d762dd5",
   "metadata": {},
   "outputs": [],
   "source": []
  },
  {
   "cell_type": "code",
   "execution_count": null,
   "id": "948163fa",
   "metadata": {},
   "outputs": [],
   "source": []
  }
 ],
 "metadata": {
  "kernelspec": {
   "display_name": "Python 3 (ipykernel)",
   "language": "python",
   "name": "python3"
  },
  "language_info": {
   "codemirror_mode": {
    "name": "ipython",
    "version": 3
   },
   "file_extension": ".py",
   "mimetype": "text/x-python",
   "name": "python",
   "nbconvert_exporter": "python",
   "pygments_lexer": "ipython3",
   "version": "3.9.13"
  },
  "varInspector": {
   "cols": {
    "lenName": 16,
    "lenType": 16,
    "lenVar": 40
   },
   "kernels_config": {
    "python": {
     "delete_cmd_postfix": "",
     "delete_cmd_prefix": "del ",
     "library": "var_list.py",
     "varRefreshCmd": "print(var_dic_list())"
    },
    "r": {
     "delete_cmd_postfix": ") ",
     "delete_cmd_prefix": "rm(",
     "library": "var_list.r",
     "varRefreshCmd": "cat(var_dic_list()) "
    }
   },
   "types_to_exclude": [
    "module",
    "function",
    "builtin_function_or_method",
    "instance",
    "_Feature"
   ],
   "window_display": false
  }
 },
 "nbformat": 4,
 "nbformat_minor": 5
}
